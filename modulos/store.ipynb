{
 "cells": [
  {
   "cell_type": "code",
   "execution_count": 16,
   "metadata": {},
   "outputs": [],
   "source": [
    "import pandas as pd\n",
    "import sqlalchemy\n",
    "from sqlalchemy import create_engine\n",
    "from tabulate import tabulate\n",
    "pd.set_option(\"display.max_columns\", None)\n",
    "\n",
    "\n",
    "from variables import fecha\n",
    "from cfg import postgresql_config"
   ]
  },
  {
   "cell_type": "code",
   "execution_count": 2,
   "metadata": {},
   "outputs": [],
   "source": [
    "db = create_engine(postgresql_config)\n",
    "conn = db.connect()"
   ]
  },
  {
   "cell_type": "code",
   "execution_count": 3,
   "metadata": {},
   "outputs": [],
   "source": [
    "def traer_interanual(region):\n",
    "    \"\"\"\n",
    "    Trae la tabla interanual de la base de datos\n",
    "    \"\"\"\n",
    "    query = f\"\"\"\n",
    "    SELECT * FROM indice_aperturas \n",
    "    WHERE date_part('month', fecha) = date_part('month', CURRENT_DATE) -1\n",
    "    and region = '{region}'\n",
    "    ORDER BY fecha DESC LIMIT 2;\n",
    "    \"\"\"\n",
    "    df = pd.read_sql_query(query,con=db)\n",
    "    \n",
    "    return df\n",
    "    \n",
    "\n"
   ]
  },
  {
   "cell_type": "code",
   "execution_count": 17,
   "metadata": {},
   "outputs": [],
   "source": [
    "def print_interanual(region):\n",
    "    df_interanual = traer_interanual(region)\n",
    "    df_interanual.head()\n",
    "    for column in df_interanual.columns[2::]:\n",
    "        if column != 'region':\n",
    "            df_interanual[column] = df_interanual[column].astype(float)\n",
    "\n",
    "    for column in df_interanual.columns[2::]:\n",
    "        if column != 'region':\n",
    "            df_interanual[column] = ((df_interanual[column][0] - df_interanual[column][1]) / df_interanual[column][1]) * 100\n",
    "\n",
    "    fecha = f'{df_interanual[\"fecha\"][0].strftime(\"%B\")} {df_interanual[\"fecha\"][0].year}'\n",
    "    df_interanual = df_interanual.dropna(axis=1)\n",
    "    df_interanual = df_interanual.drop(columns=['fecha', 'index', 'region'])\n",
    "    df_interanual_final = df_interanual\n",
    "    df_interanual_final.iloc[0,:]\n",
    "    df = pd.DataFrame(df_interanual_final.iloc[0,:])\n",
    "    df = df.reset_index()\n",
    "    df = df.rename(columns={'index': 'Indice Apertura', 0: 'variacion'})\n",
    "    print(f'Indice interanual de aperturas de {fecha}')\n",
    "\n",
    "    df2=df.nlargest(5,['variacion'])\n",
    "    \n",
    "    print(tabulate(df2, headers='keys', tablefmt='psql', showindex=False))"
   ]
  },
  {
   "cell_type": "code",
   "execution_count": 18,
   "metadata": {},
   "outputs": [
    {
     "name": "stdout",
     "output_type": "stream",
     "text": [
      "Indice interanual de aperturas de October 2022\n",
      "+----+---------------------------------+-------------+\n",
      "|    | Indice Apertura                 |   variacion |\n",
      "|----+---------------------------------+-------------|\n",
      "| 17 | prendas_de_vestir_y_materiales  |     128.876 |\n",
      "|  8 | verduras_tubérculos_y_legumbres |     122.759 |\n",
      "| 16 | prendas_de_vestir_y_calzado     |     122.353 |\n",
      "| 14 | bebidas_alcohólicas             |     113.095 |\n",
      "|  6 | aceites_grasas_y_manteca        |     110.525 |\n",
      "+----+---------------------------------+-------------+\n"
     ]
    }
   ],
   "source": [
    "\n",
    "print_interanual('Region GBA')\n"
   ]
  }
 ],
 "metadata": {
  "kernelspec": {
   "display_name": "Python 3.10.4 ('venv')",
   "language": "python",
   "name": "python3"
  },
  "language_info": {
   "codemirror_mode": {
    "name": "ipython",
    "version": 3
   },
   "file_extension": ".py",
   "mimetype": "text/x-python",
   "name": "python",
   "nbconvert_exporter": "python",
   "pygments_lexer": "ipython3",
   "version": "3.10.4"
  },
  "orig_nbformat": 4,
  "vscode": {
   "interpreter": {
    "hash": "4d0eb4507c1f58265210f57e4a2674896474fb5540df42135818b88eed29f547"
   }
  }
 },
 "nbformat": 4,
 "nbformat_minor": 2
}
